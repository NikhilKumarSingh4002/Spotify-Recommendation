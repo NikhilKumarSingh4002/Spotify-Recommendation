{
 "cells": [
  {
   "cell_type": "code",
   "execution_count": 71,
   "id": "f96c2abf-1689-4d8c-81bd-db34bae41a92",
   "metadata": {},
   "outputs": [],
   "source": [
    "import pandas as pd\n",
    "df = pd.read_csv(r\"spotify_millsongdata.csv\")\n",
    "df_sample = df.sample(frac = 0.1)"
   ]
  },
  {
   "cell_type": "code",
   "execution_count": 64,
   "id": "e3cd3467-7836-40eb-b8ae-f0713e9c38fb",
   "metadata": {},
   "outputs": [
    {
     "data": {
      "text/html": [
       "<div>\n",
       "<style scoped>\n",
       "    .dataframe tbody tr th:only-of-type {\n",
       "        vertical-align: middle;\n",
       "    }\n",
       "\n",
       "    .dataframe tbody tr th {\n",
       "        vertical-align: top;\n",
       "    }\n",
       "\n",
       "    .dataframe thead th {\n",
       "        text-align: right;\n",
       "    }\n",
       "</style>\n",
       "<table border=\"1\" class=\"dataframe\">\n",
       "  <thead>\n",
       "    <tr style=\"text-align: right;\">\n",
       "      <th></th>\n",
       "      <th>artist</th>\n",
       "      <th>song</th>\n",
       "      <th>link</th>\n",
       "      <th>text</th>\n",
       "    </tr>\n",
       "  </thead>\n",
       "  <tbody>\n",
       "    <tr>\n",
       "      <th>21894</th>\n",
       "      <td>Yazoo</td>\n",
       "      <td>Too Pieces</td>\n",
       "      <td>/y/yazoo/too+pieces_20323830.html</td>\n",
       "      <td>Write me a letter a face in the hall  \\r\\nHidi...</td>\n",
       "    </tr>\n",
       "    <tr>\n",
       "      <th>32941</th>\n",
       "      <td>Frank Zappa</td>\n",
       "      <td>Carol, You Fool</td>\n",
       "      <td>/f/frank+zappa/carol+you+fool_20056965.html</td>\n",
       "      <td>Frank zappa (lead guitar, vocals)  \\r\\nIke wil...</td>\n",
       "    </tr>\n",
       "    <tr>\n",
       "      <th>193</th>\n",
       "      <td>Aerosmith</td>\n",
       "      <td>Rockin' Pneumonia And The Boogie Woogie Flu</td>\n",
       "      <td>/a/aerosmith/rockin+pneumonia+and+the+boogie+w...</td>\n",
       "      <td>I want to jump but I'm afraid I'll fall  \\r\\nI...</td>\n",
       "    </tr>\n",
       "    <tr>\n",
       "      <th>11130</th>\n",
       "      <td>Lady Gaga</td>\n",
       "      <td>Rock Show</td>\n",
       "      <td>/l/lady+gaga/rock+show_20780310.html</td>\n",
       "      <td>Hold her hand through the black light  \\r\\nBab...</td>\n",
       "    </tr>\n",
       "    <tr>\n",
       "      <th>32721</th>\n",
       "      <td>Foo Fighters</td>\n",
       "      <td>The Pretender</td>\n",
       "      <td>/f/foo+fighters/the+pretender_20452063.html</td>\n",
       "      <td>Keep you in the dark  \\r\\nYou know they all pr...</td>\n",
       "    </tr>\n",
       "  </tbody>\n",
       "</table>\n",
       "</div>"
      ],
      "text/plain": [
       "             artist                                         song  \\\n",
       "21894         Yazoo                                   Too Pieces   \n",
       "32941   Frank Zappa                              Carol, You Fool   \n",
       "193       Aerosmith  Rockin' Pneumonia And The Boogie Woogie Flu   \n",
       "11130     Lady Gaga                                    Rock Show   \n",
       "32721  Foo Fighters                                The Pretender   \n",
       "\n",
       "                                                    link  \\\n",
       "21894                  /y/yazoo/too+pieces_20323830.html   \n",
       "32941        /f/frank+zappa/carol+you+fool_20056965.html   \n",
       "193    /a/aerosmith/rockin+pneumonia+and+the+boogie+w...   \n",
       "11130               /l/lady+gaga/rock+show_20780310.html   \n",
       "32721        /f/foo+fighters/the+pretender_20452063.html   \n",
       "\n",
       "                                                    text  \n",
       "21894  Write me a letter a face in the hall  \\r\\nHidi...  \n",
       "32941  Frank zappa (lead guitar, vocals)  \\r\\nIke wil...  \n",
       "193    I want to jump but I'm afraid I'll fall  \\r\\nI...  \n",
       "11130  Hold her hand through the black light  \\r\\nBab...  \n",
       "32721  Keep you in the dark  \\r\\nYou know they all pr...  "
      ]
     },
     "execution_count": 64,
     "metadata": {},
     "output_type": "execute_result"
    }
   ],
   "source": [
    "df_sample.head(5)"
   ]
  },
  {
   "cell_type": "code",
   "execution_count": 65,
   "id": "c34be426-1dfa-4e64-97b1-812ecebe88f3",
   "metadata": {},
   "outputs": [
    {
     "data": {
      "text/html": [
       "<div>\n",
       "<style scoped>\n",
       "    .dataframe tbody tr th:only-of-type {\n",
       "        vertical-align: middle;\n",
       "    }\n",
       "\n",
       "    .dataframe tbody tr th {\n",
       "        vertical-align: top;\n",
       "    }\n",
       "\n",
       "    .dataframe thead th {\n",
       "        text-align: right;\n",
       "    }\n",
       "</style>\n",
       "<table border=\"1\" class=\"dataframe\">\n",
       "  <thead>\n",
       "    <tr style=\"text-align: right;\">\n",
       "      <th></th>\n",
       "      <th>artist</th>\n",
       "      <th>song</th>\n",
       "      <th>link</th>\n",
       "      <th>text</th>\n",
       "    </tr>\n",
       "  </thead>\n",
       "  <tbody>\n",
       "    <tr>\n",
       "      <th>57645</th>\n",
       "      <td>Ziggy Marley</td>\n",
       "      <td>Good Old Days</td>\n",
       "      <td>/z/ziggy+marley/good+old+days_10198588.html</td>\n",
       "      <td>Irie days come on play  \\r\\nLet the angels fly...</td>\n",
       "    </tr>\n",
       "    <tr>\n",
       "      <th>57646</th>\n",
       "      <td>Ziggy Marley</td>\n",
       "      <td>Hand To Mouth</td>\n",
       "      <td>/z/ziggy+marley/hand+to+mouth_20531167.html</td>\n",
       "      <td>Power to the workers  \\r\\nMore power  \\r\\nPowe...</td>\n",
       "    </tr>\n",
       "    <tr>\n",
       "      <th>57647</th>\n",
       "      <td>Zwan</td>\n",
       "      <td>Come With Me</td>\n",
       "      <td>/z/zwan/come+with+me_20148981.html</td>\n",
       "      <td>all you need  \\r\\nis something i'll believe  \\...</td>\n",
       "    </tr>\n",
       "    <tr>\n",
       "      <th>57648</th>\n",
       "      <td>Zwan</td>\n",
       "      <td>Desire</td>\n",
       "      <td>/z/zwan/desire_20148986.html</td>\n",
       "      <td>northern star  \\r\\nam i frightened  \\r\\nwhere ...</td>\n",
       "    </tr>\n",
       "    <tr>\n",
       "      <th>57649</th>\n",
       "      <td>Zwan</td>\n",
       "      <td>Heartsong</td>\n",
       "      <td>/z/zwan/heartsong_20148991.html</td>\n",
       "      <td>come in  \\r\\nmake yourself at home  \\r\\ni'm a ...</td>\n",
       "    </tr>\n",
       "  </tbody>\n",
       "</table>\n",
       "</div>"
      ],
      "text/plain": [
       "             artist           song  \\\n",
       "57645  Ziggy Marley  Good Old Days   \n",
       "57646  Ziggy Marley  Hand To Mouth   \n",
       "57647          Zwan   Come With Me   \n",
       "57648          Zwan         Desire   \n",
       "57649          Zwan      Heartsong   \n",
       "\n",
       "                                              link  \\\n",
       "57645  /z/ziggy+marley/good+old+days_10198588.html   \n",
       "57646  /z/ziggy+marley/hand+to+mouth_20531167.html   \n",
       "57647           /z/zwan/come+with+me_20148981.html   \n",
       "57648                 /z/zwan/desire_20148986.html   \n",
       "57649              /z/zwan/heartsong_20148991.html   \n",
       "\n",
       "                                                    text  \n",
       "57645  Irie days come on play  \\r\\nLet the angels fly...  \n",
       "57646  Power to the workers  \\r\\nMore power  \\r\\nPowe...  \n",
       "57647  all you need  \\r\\nis something i'll believe  \\...  \n",
       "57648  northern star  \\r\\nam i frightened  \\r\\nwhere ...  \n",
       "57649  come in  \\r\\nmake yourself at home  \\r\\ni'm a ...  "
      ]
     },
     "execution_count": 65,
     "metadata": {},
     "output_type": "execute_result"
    }
   ],
   "source": [
    "df.tail(5)"
   ]
  },
  {
   "cell_type": "code",
   "execution_count": 66,
   "id": "96095e67-4dac-4b41-b0d5-241a1db95b44",
   "metadata": {},
   "outputs": [
    {
     "data": {
      "text/plain": [
       "(5765, 4)"
      ]
     },
     "execution_count": 66,
     "metadata": {},
     "output_type": "execute_result"
    }
   ],
   "source": [
    "df_sample.shape"
   ]
  },
  {
   "cell_type": "code",
   "execution_count": 67,
   "id": "47f4cdbe-393c-400d-a668-a60360a648b7",
   "metadata": {},
   "outputs": [
    {
     "data": {
      "text/plain": [
       "artist    0\n",
       "song      0\n",
       "link      0\n",
       "text      0\n",
       "dtype: int64"
      ]
     },
     "execution_count": 67,
     "metadata": {},
     "output_type": "execute_result"
    }
   ],
   "source": [
    "df_sample.isnull().sum()"
   ]
  },
  {
   "cell_type": "code",
   "execution_count": 72,
   "id": "cc334125-0695-489a-a4a8-ed17b843c334",
   "metadata": {},
   "outputs": [],
   "source": [
    "df_sample = df_sample.drop('link',axis = 1).reset_index(drop=True)"
   ]
  },
  {
   "cell_type": "code",
   "execution_count": 47,
   "id": "e90f390a-3aca-466d-bb4b-d795ba8ac948",
   "metadata": {},
   "outputs": [
    {
     "data": {
      "text/html": [
       "<div>\n",
       "<style scoped>\n",
       "    .dataframe tbody tr th:only-of-type {\n",
       "        vertical-align: middle;\n",
       "    }\n",
       "\n",
       "    .dataframe tbody tr th {\n",
       "        vertical-align: top;\n",
       "    }\n",
       "\n",
       "    .dataframe thead th {\n",
       "        text-align: right;\n",
       "    }\n",
       "</style>\n",
       "<table border=\"1\" class=\"dataframe\">\n",
       "  <thead>\n",
       "    <tr style=\"text-align: right;\">\n",
       "      <th></th>\n",
       "      <th>artist</th>\n",
       "      <th>song</th>\n",
       "      <th>text</th>\n",
       "    </tr>\n",
       "  </thead>\n",
       "  <tbody>\n",
       "    <tr>\n",
       "      <th>0</th>\n",
       "      <td>Dean Martin</td>\n",
       "      <td>All Of Me</td>\n",
       "      <td>All of me  \\r\\nWhy not take all of me  \\r\\nCan...</td>\n",
       "    </tr>\n",
       "    <tr>\n",
       "      <th>1</th>\n",
       "      <td>Fatboy Slim</td>\n",
       "      <td>So In Love With You (Duke)</td>\n",
       "      <td>Woman... I can't live,  \\r\\nLive without you i...</td>\n",
       "    </tr>\n",
       "    <tr>\n",
       "      <th>2</th>\n",
       "      <td>Tina Turner</td>\n",
       "      <td>Lovin' Him Was Easier</td>\n",
       "      <td>I have seen the morning burning golden on the ...</td>\n",
       "    </tr>\n",
       "    <tr>\n",
       "      <th>3</th>\n",
       "      <td>INXS</td>\n",
       "      <td>Elegantly Wasted</td>\n",
       "      <td>Look at all that shines  \\r\\nBaby's down on th...</td>\n",
       "    </tr>\n",
       "    <tr>\n",
       "      <th>4</th>\n",
       "      <td>Kenny Rogers</td>\n",
       "      <td>Don't Look In My Eyes</td>\n",
       "      <td>All my memory is safely packed  \\r\\nAnd my dre...</td>\n",
       "    </tr>\n",
       "  </tbody>\n",
       "</table>\n",
       "</div>"
      ],
      "text/plain": [
       "         artist                        song  \\\n",
       "0   Dean Martin                   All Of Me   \n",
       "1   Fatboy Slim  So In Love With You (Duke)   \n",
       "2   Tina Turner       Lovin' Him Was Easier   \n",
       "3          INXS            Elegantly Wasted   \n",
       "4  Kenny Rogers       Don't Look In My Eyes   \n",
       "\n",
       "                                                text  \n",
       "0  All of me  \\r\\nWhy not take all of me  \\r\\nCan...  \n",
       "1  Woman... I can't live,  \\r\\nLive without you i...  \n",
       "2  I have seen the morning burning golden on the ...  \n",
       "3  Look at all that shines  \\r\\nBaby's down on th...  \n",
       "4  All my memory is safely packed  \\r\\nAnd my dre...  "
      ]
     },
     "execution_count": 47,
     "metadata": {},
     "output_type": "execute_result"
    }
   ],
   "source": [
    "df_sample.head(5)"
   ]
  },
  {
   "cell_type": "code",
   "execution_count": 48,
   "id": "4c871aa7-5c01-4301-a6e0-cee3caa23e69",
   "metadata": {},
   "outputs": [
    {
     "data": {
      "text/plain": [
       "\"All of me  \\r\\nWhy not take all of me  \\r\\nCan't you see  \\r\\nI'm no good without you  \\r\\nTake my lips  \\r\\nI want to lose them  \\r\\nTake my arms  \\r\\nI'll never use them  \\r\\nYour goodbye  \\r\\nLeft me with eyes that cried  \\r\\nHow can I  \\r\\nGo on dear without you  \\r\\nYou took the part that once was my heart  \\r\\nSo why not take all of me  \\r\\nLeft me with eyes that cried  \\r\\nGo on dear without you  \\r\\nYou took the part that once was my heart  \\r\\nSo why not take all of me\\r\\n\\r\\n\""
      ]
     },
     "execution_count": 48,
     "metadata": {},
     "output_type": "execute_result"
    }
   ],
   "source": [
    "df_sample['text'][0]"
   ]
  },
  {
   "cell_type": "code",
   "execution_count": null,
   "id": "7e2a3ec4-54a3-4616-83bc-c1948d45b280",
   "metadata": {},
   "outputs": [],
   "source": []
  },
  {
   "cell_type": "code",
   "execution_count": 73,
   "id": "c539db14-1b53-4da1-a5a0-cb1fd44a6501",
   "metadata": {},
   "outputs": [
    {
     "data": {
      "text/plain": [
       "(5765, 3)"
      ]
     },
     "execution_count": 73,
     "metadata": {},
     "output_type": "execute_result"
    }
   ],
   "source": [
    "df_sample.shape"
   ]
  },
  {
   "cell_type": "code",
   "execution_count": 74,
   "id": "98e6fc07-6151-4bcf-982e-088f4e9073b3",
   "metadata": {},
   "outputs": [],
   "source": [
    "#text cleaning\n",
    "df_sample['text'] = df_sample['text'].str.lower().replace(r'^\\w\\s',' ').replace(r'\\n',' ',regex = True)"
   ]
  },
  {
   "cell_type": "code",
   "execution_count": 33,
   "id": "6f5f3815-4f4b-45da-aaf7-3af20ce6be08",
   "metadata": {},
   "outputs": [
    {
     "name": "stderr",
     "output_type": "stream",
     "text": [
      "[nltk_data] Downloading package punkt to\n",
      "[nltk_data]     C:\\Users\\91727\\AppData\\Roaming\\nltk_data...\n",
      "[nltk_data]   Unzipping tokenizers\\punkt.zip.\n"
     ]
    }
   ],
   "source": [
    "import nltk\n",
    "nltk.download('punkt')\n",
    "from nltk.stem.porter import PorterStemmer"
   ]
  },
  {
   "cell_type": "code",
   "execution_count": 75,
   "id": "703f83fe-a6d2-4fb4-9ffe-d16e7d4b6aa8",
   "metadata": {},
   "outputs": [],
   "source": [
    "stemmer = PorterStemmer()"
   ]
  },
  {
   "cell_type": "code",
   "execution_count": 76,
   "id": "999390d6-ca30-4095-9be0-8e94f66664ed",
   "metadata": {},
   "outputs": [],
   "source": [
    "def token(txt):\n",
    "    token = nltk.word_tokenize(txt)\n",
    "    a = [stemmer.stem(w) for w in token]\n",
    "    return \" \".join(a)"
   ]
  },
  {
   "cell_type": "code",
   "execution_count": 77,
   "id": "cf5b0e50-0fdb-4607-83a3-021ecfc9ef47",
   "metadata": {},
   "outputs": [
    {
     "data": {
      "text/plain": [
       "0       after you 're gone , babi ride the soft machin...\n",
       "1       [ intro ] bakit ba mapaglaro ang buhay problem...\n",
       "2       babi 's good to me you know she 's happi as ca...\n",
       "3       when our power structur creat sound the wall o...\n",
       "4       you say you 're not gon na fight 'caus no one ...\n",
       "                              ...                        \n",
       "5760    do n't break thi rhythm , do n't break thi mot...\n",
       "5761    the silent fall of even snow anoth thing you c...\n",
       "5762    onc wa a time you and i made a promis till the...\n",
       "5763    how wonder to know you realli love me how wond...\n",
       "5764    kahaa chalaa aye mere joge , jeewan se too bha...\n",
       "Name: text, Length: 5765, dtype: object"
      ]
     },
     "execution_count": 77,
     "metadata": {},
     "output_type": "execute_result"
    }
   ],
   "source": [
    "df_sample['text'].apply(lambda x: token(x))"
   ]
  },
  {
   "cell_type": "code",
   "execution_count": 30,
   "id": "659b6e35-25b6-4324-ba2b-ab8f67b67e09",
   "metadata": {},
   "outputs": [],
   "source": [
    "from sklearn.feature_extraction.text import TfidfVectorizer\n",
    "from sklearn.metrics.pairwise import cosine_similarity\n"
   ]
  },
  {
   "cell_type": "code",
   "execution_count": 78,
   "id": "1e8e32ed-1942-4f84-8384-dba04fa89209",
   "metadata": {},
   "outputs": [],
   "source": [
    "tfid = TfidfVectorizer(analyzer='word',stop_words='english')"
   ]
  },
  {
   "cell_type": "code",
   "execution_count": 79,
   "id": "48df8727-ced5-4362-9386-67b653ce7730",
   "metadata": {},
   "outputs": [],
   "source": [
    "matrix = tfid.fit_transform(df_sample['text'])"
   ]
  },
  {
   "cell_type": "code",
   "execution_count": 80,
   "id": "8b5a8cca-e372-4d02-b1d7-899489c7ee81",
   "metadata": {},
   "outputs": [],
   "source": [
    "similar = cosine_similarity(matrix)"
   ]
  },
  {
   "cell_type": "code",
   "execution_count": 81,
   "id": "b4356eac-3ec0-4570-859e-68c74019a2d0",
   "metadata": {},
   "outputs": [
    {
     "data": {
      "text/plain": [
       "array([1.        , 0.00167887, 0.01480176, ..., 0.01689591, 0.01878756,\n",
       "       0.        ])"
      ]
     },
     "execution_count": 81,
     "metadata": {},
     "output_type": "execute_result"
    }
   ],
   "source": [
    "similar[0]"
   ]
  },
  {
   "cell_type": "code",
   "execution_count": 82,
   "id": "b5c45ba3-d093-4247-9e04-70f113f8dc6a",
   "metadata": {},
   "outputs": [
    {
     "data": {
      "text/html": [
       "<div>\n",
       "<style scoped>\n",
       "    .dataframe tbody tr th:only-of-type {\n",
       "        vertical-align: middle;\n",
       "    }\n",
       "\n",
       "    .dataframe tbody tr th {\n",
       "        vertical-align: top;\n",
       "    }\n",
       "\n",
       "    .dataframe thead th {\n",
       "        text-align: right;\n",
       "    }\n",
       "</style>\n",
       "<table border=\"1\" class=\"dataframe\">\n",
       "  <thead>\n",
       "    <tr style=\"text-align: right;\">\n",
       "      <th></th>\n",
       "      <th>artist</th>\n",
       "      <th>song</th>\n",
       "      <th>text</th>\n",
       "    </tr>\n",
       "  </thead>\n",
       "  <tbody>\n",
       "    <tr>\n",
       "      <th>5760</th>\n",
       "      <td>Peter Gabriel</td>\n",
       "      <td>Don't Break This Rhythm</td>\n",
       "      <td>don't break this rhythm, don't break this moti...</td>\n",
       "    </tr>\n",
       "    <tr>\n",
       "      <th>5761</th>\n",
       "      <td>Bob Seger</td>\n",
       "      <td>The Long Goodbye</td>\n",
       "      <td>the silent fall of evening snow  \\r another th...</td>\n",
       "    </tr>\n",
       "    <tr>\n",
       "      <th>5762</th>\n",
       "      <td>Rihanna</td>\n",
       "      <td>The Last Time</td>\n",
       "      <td>once was a time you and i  \\r made a promise t...</td>\n",
       "    </tr>\n",
       "    <tr>\n",
       "      <th>5763</th>\n",
       "      <td>Cliff Richard</td>\n",
       "      <td>How Wonderful To Know</td>\n",
       "      <td>how wonderful to know you really love me  \\r h...</td>\n",
       "    </tr>\n",
       "    <tr>\n",
       "      <th>5764</th>\n",
       "      <td>Lata Mangeshkar</td>\n",
       "      <td>Kaha Chala Aye Mere Jogi</td>\n",
       "      <td>kahaa chalaa aye mere jogee, jeewan se too bha...</td>\n",
       "    </tr>\n",
       "  </tbody>\n",
       "</table>\n",
       "</div>"
      ],
      "text/plain": [
       "               artist                      song  \\\n",
       "5760    Peter Gabriel   Don't Break This Rhythm   \n",
       "5761        Bob Seger          The Long Goodbye   \n",
       "5762          Rihanna             The Last Time   \n",
       "5763    Cliff Richard     How Wonderful To Know   \n",
       "5764  Lata Mangeshkar  Kaha Chala Aye Mere Jogi   \n",
       "\n",
       "                                                   text  \n",
       "5760  don't break this rhythm, don't break this moti...  \n",
       "5761  the silent fall of evening snow  \\r another th...  \n",
       "5762  once was a time you and i  \\r made a promise t...  \n",
       "5763  how wonderful to know you really love me  \\r h...  \n",
       "5764  kahaa chalaa aye mere jogee, jeewan se too bha...  "
      ]
     },
     "execution_count": 82,
     "metadata": {},
     "output_type": "execute_result"
    }
   ],
   "source": [
    "df_sample.tail(5)"
   ]
  },
  {
   "cell_type": "code",
   "execution_count": 83,
   "id": "53b7b23a-43ce-4ddc-8908-0e31d8bb263b",
   "metadata": {},
   "outputs": [
    {
     "data": {
      "text/plain": [
       "1335"
      ]
     },
     "execution_count": 83,
     "metadata": {},
     "output_type": "execute_result"
    }
   ],
   "source": [
    "df[df['song'] == 'The Last Time'].index[0]"
   ]
  },
  {
   "cell_type": "markdown",
   "id": "f80c2472-2fa8-4716-ab09-c8bd62872ab8",
   "metadata": {},
   "source": [
    "Recommender Function"
   ]
  },
  {
   "cell_type": "markdown",
   "id": "a57d6793-173a-4534-ba16-800a5112ae4d",
   "metadata": {},
   "source": [
    "Recommender Function"
   ]
  },
  {
   "cell_type": "code",
   "execution_count": 86,
   "id": "26d3030c-0c83-4b41-af74-1f2beae3e9b4",
   "metadata": {},
   "outputs": [],
   "source": [
    "def recommender(song_name):\n",
    "    idx = df[df['song'] == song_name].index[0]\n",
    "    distance = sorted(list(enumerate(similar[idx])),reverse = True,key = lambda x:x[1])\n",
    "    song = []\n",
    "    for s_id in distance[1:21]:\n",
    "        song.append(df.iloc[s_id[0]].song)\n",
    "    return song"
   ]
  },
  {
   "cell_type": "code",
   "execution_count": 87,
   "id": "58880852-6a53-412c-95cb-fb4190d430a7",
   "metadata": {},
   "outputs": [
    {
     "data": {
      "text/plain": [
       "['50 Ways To Eat Your Lover',\n",
       " 'Shadow Of The Sun',\n",
       " 'Need Your Love So Bad',\n",
       " \"I'm Ready\",\n",
       " 'Miss You',\n",
       " 'September Blue',\n",
       " 'Halloween',\n",
       " 'If The World Crashes Down',\n",
       " '4Th Time Around',\n",
       " 'The Day Before You Came',\n",
       " \"C'est Magnifique\",\n",
       " 'Alfie',\n",
       " 'Make Me Feel Better',\n",
       " 'Rock N Roll',\n",
       " 'Another Park, Another Sunday',\n",
       " 'The King Has Lost His Crown',\n",
       " 'Easy From Now On',\n",
       " 'Lies',\n",
       " 'Find Myself',\n",
       " \"What'd I Say\"]"
      ]
     },
     "execution_count": 87,
     "metadata": {},
     "output_type": "execute_result"
    }
   ],
   "source": [
    "recommender(\"The Last Time\")"
   ]
  },
  {
   "cell_type": "code",
   "execution_count": 88,
   "id": "2a0bdbb4-8655-467f-9769-9768a22e31e9",
   "metadata": {},
   "outputs": [],
   "source": [
    "import pickle"
   ]
  },
  {
   "cell_type": "code",
   "execution_count": 91,
   "id": "09b8dc5f-9d20-46f2-bf2c-e905169e64ed",
   "metadata": {},
   "outputs": [],
   "source": [
    "pickle.dump(similar, open(\"similarity\",\"wb\"))"
   ]
  },
  {
   "cell_type": "code",
   "execution_count": 92,
   "id": "89c528ed-8576-4272-a64c-644fc837ea50",
   "metadata": {},
   "outputs": [],
   "source": [
    "pickle.dump(df,open(\"df\",\"wb\"))"
   ]
  },
  {
   "cell_type": "code",
   "execution_count": null,
   "id": "3bd44797-973d-4306-8793-6b4ca724d393",
   "metadata": {},
   "outputs": [],
   "source": []
  }
 ],
 "metadata": {
  "kernelspec": {
   "display_name": "Python 3 (ipykernel)",
   "language": "python",
   "name": "python3"
  },
  "language_info": {
   "codemirror_mode": {
    "name": "ipython",
    "version": 3
   },
   "file_extension": ".py",
   "mimetype": "text/x-python",
   "name": "python",
   "nbconvert_exporter": "python",
   "pygments_lexer": "ipython3",
   "version": "3.12.4"
  }
 },
 "nbformat": 4,
 "nbformat_minor": 5
}
